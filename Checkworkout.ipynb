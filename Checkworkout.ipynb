{
 "cells": [
  {
   "cell_type": "code",
   "execution_count": 19,
   "metadata": {},
   "outputs": [
    {
     "name": "stdout",
     "output_type": "stream",
     "text": [
      "12.345600\n",
      "12.35\n"
     ]
    }
   ],
   "source": [
    "# Format specifier\n",
    "a = 12.3456\n",
    "b = 123\n",
    "c = \"hi\"\n",
    "print(\"%f\"%a)\n",
    "print(\"%.2f\"%a)"
   ]
  },
  {
   "cell_type": "code",
   "execution_count": 31,
   "metadata": {},
   "outputs": [
    {
     "name": "stdout",
     "output_type": "stream",
     "text": [
      "123 - 12.35 : hi\n",
      "%d - %.2f : %s\n"
     ]
    }
   ],
   "source": [
    "print(\"%d - %.2f : %s\"%(b,a,c))\n",
    "print(\"%d - %.2f : %s\".format(b,a,c))"
   ]
  },
  {
   "cell_type": "code",
   "execution_count": 18,
   "metadata": {},
   "outputs": [
    {
     "name": "stdout",
     "output_type": "stream",
     "text": [
      "12.3456 - 123 : hi\n",
      "123 - 12.3456 : hi\n"
     ]
    }
   ],
   "source": [
    "print(\"{} - {} : {}\".format(a,b,c))\n",
    "print(\"{1} - {0} : {2}\".format(a,b,c))"
   ]
  },
  {
   "cell_type": "code",
   "execution_count": 33,
   "metadata": {},
   "outputs": [
    {
     "name": "stdout",
     "output_type": "stream",
     "text": [
      "96.543 - 8.83 : 34.000000\n",
      "%.3f - %.2f : %f\n",
      "96.54321 - 8.831 : 34\n"
     ]
    }
   ],
   "source": [
    "d=96.54321\n",
    "e=8.831\n",
    "f=34\n",
    "print(\"%.3f - %.2f : %f\"%(d,e,f))\n",
    "print(\"%.3f - %.2f : %f\".format(d,e,f))\n",
    "print(\"{} - {} : {}\".format(d,e,f))"
   ]
  },
  {
   "cell_type": "code",
   "execution_count": 35,
   "metadata": {},
   "outputs": [
    {
     "name": "stdout",
     "output_type": "stream",
     "text": [
      "12.346\n",
      "12.346\n",
      "8.8310\n",
      "8.831\n"
     ]
    }
   ],
   "source": [
    "# Roundoff\n",
    "print(\"%.3f\"%a)\n",
    "print(round(a,3))\n",
    "\n",
    "print(\"%.4f\"%e)\n",
    "print(round(e,4))"
   ]
  },
  {
   "cell_type": "code",
   "execution_count": 38,
   "metadata": {},
   "outputs": [
    {
     "name": "stdout",
     "output_type": "stream",
     "text": [
      "True\n"
     ]
    }
   ],
   "source": [
    "# Logical Operator\n",
    "# OR \n",
    "# Ques - Find a number is divisible by 3 or 7 ?\n",
    "n = int(input(\"Enter a number : \"))\n",
    "print(n%3 == 0 or n%7 == 0)"
   ]
  },
  {
   "cell_type": "code",
   "execution_count": 42,
   "metadata": {},
   "outputs": [
    {
     "name": "stdout",
     "output_type": "stream",
     "text": [
      "False\n"
     ]
    }
   ],
   "source": [
    "# AND\n",
    "# Ques - Find a number is divisible by 3 and 7 ?\n",
    "n = int(input(\"Enter a number : \"))\n",
    "print(n%3 == 0 and n%7 == 0)"
   ]
  },
  {
   "cell_type": "code",
   "execution_count": 85,
   "metadata": {},
   "outputs": [
    {
     "name": "stdout",
     "output_type": "stream",
     "text": [
      "2\n",
      "30\n",
      "-11\n",
      "-23\n",
      "28\n",
      "10\n",
      "80\n",
      "2\n",
      "1\n",
      "0\n",
      "0\n",
      "0\n"
     ]
    }
   ],
   "source": [
    "# Bitwise operator\n",
    "a = 10\n",
    "b = 22\n",
    "print(a & b)\n",
    "print(a | b)\n",
    "print(~a)\n",
    "print(~b)\n",
    "print(a^b)\n",
    "c=5\n",
    "print(c<<1)\n",
    "print(c<<4)\n",
    "print(c>>1)\n",
    "print(c>>2)\n",
    "print(c>>3)\n",
    "print(c>>4)\n",
    "print(c>>10)"
   ]
  },
  {
   "cell_type": "code",
   "execution_count": 62,
   "metadata": {},
   "outputs": [
    {
     "name": "stdout",
     "output_type": "stream",
     "text": [
      "4294967296\n",
      "4294967296\n",
      "0\n"
     ]
    }
   ],
   "source": [
    "h=1\n",
    "print(h<<32)\n",
    "print(2**32)\n",
    "print(h>>32)"
   ]
  },
  {
   "cell_type": "code",
   "execution_count": 83,
   "metadata": {},
   "outputs": [
    {
     "data": {
      "text/plain": [
       "2.5"
      ]
     },
     "execution_count": 83,
     "metadata": {},
     "output_type": "execute_result"
    }
   ],
   "source": [
    "5*2**-1"
   ]
  }
 ],
 "metadata": {
  "kernelspec": {
   "display_name": "Python 3",
   "language": "python",
   "name": "python3"
  },
  "language_info": {
   "codemirror_mode": {
    "name": "ipython",
    "version": 3
   },
   "file_extension": ".py",
   "mimetype": "text/x-python",
   "name": "python",
   "nbconvert_exporter": "python",
   "pygments_lexer": "ipython3",
   "version": "3.11.6"
  }
 },
 "nbformat": 4,
 "nbformat_minor": 2
}
