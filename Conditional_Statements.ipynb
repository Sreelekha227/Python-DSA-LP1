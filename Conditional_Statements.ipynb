{
 "cells": [
  {
   "cell_type": "markdown",
   "metadata": {},
   "source": [
    "B\n",
    "1.Write a Python program to check if a number is positive, negative, or zero."
   ]
  },
  {
   "cell_type": "code",
   "execution_count": 5,
   "metadata": {},
   "outputs": [
    {
     "name": "stdout",
     "output_type": "stream",
     "text": [
      "Negative\n"
     ]
    }
   ],
   "source": [
    "n = int(input())\n",
    "if n == 0:\n",
    "    print(\"Zero\")\n",
    "elif n > 0:\n",
    "    print(\"Positive\")\n",
    "else:\n",
    "    print(\"Negative\")"
   ]
  },
  {
   "cell_type": "markdown",
   "metadata": {},
   "source": [
    "2.How do you write an if statement in Python to check if a number is greater than 10?"
   ]
  },
  {
   "cell_type": "code",
   "execution_count": 7,
   "metadata": {},
   "outputs": [
    {
     "name": "stdout",
     "output_type": "stream",
     "text": [
      "Greater than 10\n"
     ]
    }
   ],
   "source": [
    "n = int(input(\"Enter the number: \"))\n",
    "if n > 10:\n",
    "    print(\"Greater than 10\")\n",
    "else:\n",
    "    print(\"10 or Less\")"
   ]
  },
  {
   "cell_type": "markdown",
   "metadata": {},
   "source": [
    "3.Create an if statement that checks if a string is empty."
   ]
  },
  {
   "cell_type": "code",
   "execution_count": 14,
   "metadata": {},
   "outputs": [
    {
     "name": "stdout",
     "output_type": "stream",
     "text": [
      "Empty string\n"
     ]
    }
   ],
   "source": [
    "str = input(\"Enter the string: \")\n",
    "if len(str) == 0:\n",
    "    print(\"Empty string\")\n",
    "else:\n",
    "    print(\"Non empty string\")"
   ]
  },
  {
   "cell_type": "markdown",
   "metadata": {},
   "source": [
    "4.Write a program to print \"Even\" if a number is divisible by 2, otherwise print \"Odd\"."
   ]
  },
  {
   "cell_type": "code",
   "execution_count": 16,
   "metadata": {},
   "outputs": [
    {
     "name": "stdout",
     "output_type": "stream",
     "text": [
      "Even\n"
     ]
    }
   ],
   "source": [
    "n = int(input(\"Enter the number: \"))\n",
    "if n%2 == 0:\n",
    "    print(\"Even\")\n",
    "else:\n",
    "    print(\"Odd\")"
   ]
  },
  {
   "cell_type": "markdown",
   "metadata": {},
   "source": [
    "I\n",
    "5.Write a program to determine the largest of three given numbers using nested if statements."
   ]
  },
  {
   "cell_type": "code",
   "execution_count": 39,
   "metadata": {},
   "outputs": [
    {
     "name": "stdout",
     "output_type": "stream",
     "text": [
      "The numbers are: 4,8,2\n",
      "Num3 is greater\n"
     ]
    }
   ],
   "source": [
    "# Using Nested if else\n",
    "Num1, Num2, Num3 = map(int,input(\"Enter the numbers separated by spaces: \").split())\n",
    "print(f\"The numbers are: {Num1},{Num2},{Num3}\")\n",
    "if Num1>Num2:\n",
    "    if Num1>Num3:\n",
    "        print(\"Num1 is greatest\")\n",
    "    else:\n",
    "        print(\"Num3 is greatest\")\n",
    "elif Num2>Num3:\n",
    "    print(\"Num2 is greatest\")\n",
    "else: \n",
    "    print(\"Num3 is greatest\")"
   ]
  },
  {
   "cell_type": "code",
   "execution_count": 45,
   "metadata": {},
   "outputs": [
    {
     "name": "stdout",
     "output_type": "stream",
     "text": [
      "Num3\n"
     ]
    }
   ],
   "source": [
    "# Using Simple if\n",
    "Num1, Num2, Num3 = map(int,input(\"Enter the numbers separated by spaces: \").split())\n",
    "if Num1>Num2 and Num1>Num3:\n",
    "    print(\"Num1\")\n",
    "elif Num2>Num1 and Num2>Num3:\n",
    "    print(\"Num2\")\n",
    "else:\n",
    "    print(\"Num3\")"
   ]
  },
  {
   "cell_type": "code",
   "execution_count": 47,
   "metadata": {},
   "outputs": [
    {
     "name": "stdout",
     "output_type": "stream",
     "text": [
      "The largest num is 8\n"
     ]
    }
   ],
   "source": [
    "# Using max function\n",
    "Num1, Num2, Num3 = map(int,input(\"Enter the numbers separated by spaces: \").split())\n",
    "print(\"The largest num is\",max(Num1, Num2, Num3))"
   ]
  },
  {
   "cell_type": "markdown",
   "metadata": {},
   "source": [
    "6.Implement a program to check if a year is a leap year."
   ]
  },
  {
   "cell_type": "code",
   "execution_count": 50,
   "metadata": {},
   "outputs": [
    {
     "name": "stdout",
     "output_type": "stream",
     "text": [
      "Leap year\n"
     ]
    }
   ],
   "source": [
    "N = int(input(\"Enter the year: \"))\n",
    "if (N % 4 == 0 and N % 100 != 0) or (N % 400 == 0):\n",
    "    print(\"Leap year\")\n",
    "else:\n",
    "    print(\"Not a Leap year\")\n"
   ]
  }
 ],
 "metadata": {
  "kernelspec": {
   "display_name": "Python 3",
   "language": "python",
   "name": "python3"
  },
  "language_info": {
   "codemirror_mode": {
    "name": "ipython",
    "version": 3
   },
   "file_extension": ".py",
   "mimetype": "text/x-python",
   "name": "python",
   "nbconvert_exporter": "python",
   "pygments_lexer": "ipython3",
   "version": "3.12.4"
  }
 },
 "nbformat": 4,
 "nbformat_minor": 2
}
