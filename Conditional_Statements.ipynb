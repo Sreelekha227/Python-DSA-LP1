{
 "cells": [
  {
   "cell_type": "markdown",
   "metadata": {},
   "source": [
    "B\n",
    "1.Write a Python program to check if a number is positive, negative, or zero."
   ]
  },
  {
   "cell_type": "code",
   "execution_count": 5,
   "metadata": {},
   "outputs": [
    {
     "name": "stdout",
     "output_type": "stream",
     "text": [
      "Negative\n"
     ]
    }
   ],
   "source": [
    "n = int(input())\n",
    "if n == 0:\n",
    "    print(\"Zero\")\n",
    "elif n > 0:\n",
    "    print(\"Positive\")\n",
    "else:\n",
    "    print(\"Negative\")"
   ]
  },
  {
   "cell_type": "markdown",
   "metadata": {},
   "source": [
    "2.How do you write an if statement in Python to check if a number is greater than 10?"
   ]
  },
  {
   "cell_type": "code",
   "execution_count": 7,
   "metadata": {},
   "outputs": [
    {
     "name": "stdout",
     "output_type": "stream",
     "text": [
      "Greater than 10\n"
     ]
    }
   ],
   "source": [
    "n = int(input(\"Enter the number: \"))\n",
    "if n > 10:\n",
    "    print(\"Greater than 10\")\n",
    "else:\n",
    "    print(\"10 or Less\")"
   ]
  },
  {
   "cell_type": "markdown",
   "metadata": {},
   "source": [
    "3.Create an if statement that checks if a string is empty."
   ]
  },
  {
   "cell_type": "code",
   "execution_count": 14,
   "metadata": {},
   "outputs": [
    {
     "name": "stdout",
     "output_type": "stream",
     "text": [
      "Empty string\n"
     ]
    }
   ],
   "source": [
    "str = input(\"Enter the string: \")\n",
    "if len(str) == 0:\n",
    "    print(\"Empty string\")\n",
    "else:\n",
    "    print(\"Non empty string\")"
   ]
  },
  {
   "cell_type": "markdown",
   "metadata": {},
   "source": [
    "4.Write a program to print \"Even\" if a number is divisible by 2, otherwise print \"Odd\"."
   ]
  },
  {
   "cell_type": "code",
   "execution_count": 16,
   "metadata": {},
   "outputs": [
    {
     "name": "stdout",
     "output_type": "stream",
     "text": [
      "Even\n"
     ]
    }
   ],
   "source": [
    "n = int(input(\"Enter the number: \"))\n",
    "if n%2 == 0:\n",
    "    print(\"Even\")\n",
    "else:\n",
    "    print(\"Odd\")"
   ]
  },
  {
   "cell_type": "markdown",
   "metadata": {},
   "source": [
    "5.Write a Python program to check if a number is divisible by both 3 and 5."
   ]
  },
  {
   "cell_type": "code",
   "execution_count": null,
   "metadata": {},
   "outputs": [],
   "source": [
    "N = int(input(\"Enter the Number: \"))\n",
    "if N % 3 == 0 and N % 5 == 0:\n",
    "    print(\"The number is divisible by both 3 and 5\")\n",
    "else:\n",
    "    print(\"Not divisible\")"
   ]
  },
  {
   "cell_type": "markdown",
   "metadata": {},
   "source": [
    "I\n",
    "6.Write a program to determine the largest of three given numbers using nested if statements."
   ]
  },
  {
   "cell_type": "code",
   "execution_count": 39,
   "metadata": {},
   "outputs": [
    {
     "name": "stdout",
     "output_type": "stream",
     "text": [
      "The numbers are: 4,8,2\n",
      "Num3 is greater\n"
     ]
    }
   ],
   "source": [
    "# Using Nested if else\n",
    "Num1, Num2, Num3 = map(int,input(\"Enter the numbers separated by spaces: \").split())\n",
    "print(f\"The numbers are: {Num1},{Num2},{Num3}\")\n",
    "if Num1>Num2:\n",
    "    if Num1>Num3:\n",
    "        print(\"Num1 is greatest\")\n",
    "    else:\n",
    "        print(\"Num3 is greatest\")\n",
    "elif Num2>Num3:\n",
    "    print(\"Num2 is greatest\")\n",
    "else: \n",
    "    print(\"Num3 is greatest\")"
   ]
  },
  {
   "cell_type": "code",
   "execution_count": 45,
   "metadata": {},
   "outputs": [
    {
     "name": "stdout",
     "output_type": "stream",
     "text": [
      "Num3\n"
     ]
    }
   ],
   "source": [
    "# Using Simple if\n",
    "Num1, Num2, Num3 = map(int,input(\"Enter the numbers separated by spaces: \").split())\n",
    "if Num1>Num2 and Num1>Num3:\n",
    "    print(\"Num1\")\n",
    "elif Num2>Num1 and Num2>Num3:\n",
    "    print(\"Num2\")\n",
    "else:\n",
    "    print(\"Num3\")"
   ]
  },
  {
   "cell_type": "code",
   "execution_count": 47,
   "metadata": {},
   "outputs": [
    {
     "name": "stdout",
     "output_type": "stream",
     "text": [
      "The largest num is 8\n"
     ]
    }
   ],
   "source": [
    "# Using max function\n",
    "Num1, Num2, Num3 = map(int,input(\"Enter the numbers separated by spaces: \").split())\n",
    "print(\"The largest num is\",max(Num1, Num2, Num3))"
   ]
  },
  {
   "cell_type": "markdown",
   "metadata": {},
   "source": [
    "7.Implement a program to check if a year is a leap year."
   ]
  },
  {
   "cell_type": "code",
   "execution_count": 50,
   "metadata": {},
   "outputs": [
    {
     "name": "stdout",
     "output_type": "stream",
     "text": [
      "Leap year\n"
     ]
    }
   ],
   "source": [
    "N = int(input(\"Enter the year: \"))\n",
    "if (N % 4 == 0 and N % 100 != 0) or (N % 400 == 0):\n",
    "    print(\"Leap year\")\n",
    "else:\n",
    "    print(\"Not a Leap year\")\n"
   ]
  },
  {
   "cell_type": "markdown",
   "metadata": {},
   "source": [
    "8.Write a program using an if-elif-else ladder to classify grades:\n",
    "A: 90-100\n",
    "B: 80-89\n",
    "C: 70-79\n",
    "D: Below 70"
   ]
  },
  {
   "cell_type": "code",
   "execution_count": 9,
   "metadata": {},
   "outputs": [
    {
     "name": "stdout",
     "output_type": "stream",
     "text": [
      "D Grade\n"
     ]
    }
   ],
   "source": [
    "M = int(input(\"Enter Marks: \"))\n",
    "if M>=90 and M<=100:\n",
    "    print(\"A Grade\")\n",
    "elif M>=80 and M<=89:\n",
    "    print(\"B Grade\")\n",
    "elif M>=70 and M<=79:\n",
    "    print(\"C Grade\")\n",
    "elif M>=0 and M<70:\n",
    "    print(\"D Grade\")\n",
    "else:\n",
    "    print(\"Invalid\")"
   ]
  },
  {
   "cell_type": "markdown",
   "metadata": {},
   "source": [
    "9.Create a program to check if a given string starts with \"A\" and ends with \"Z\"."
   ]
  },
  {
   "cell_type": "code",
   "execution_count": 26,
   "metadata": {},
   "outputs": [
    {
     "name": "stdout",
     "output_type": "stream",
     "text": [
      "No\n"
     ]
    }
   ],
   "source": [
    "#Using methods\n",
    "S = input(\"Enter string: \")\n",
    "if S.startswith(\"A\") and S.endswith(\"Z\"):\n",
    "    print(\"yes\")\n",
    "else:\n",
    "    print(\"No\")\n"
   ]
  },
  {
   "cell_type": "code",
   "execution_count": 27,
   "metadata": {},
   "outputs": [
    {
     "name": "stdout",
     "output_type": "stream",
     "text": [
      "Yes\n"
     ]
    }
   ],
   "source": [
    "#Using direct string slicing\n",
    "S = input(\"Enter string: \")\n",
    "if (S[0] == \"A\" or \"a\") and (S[-1] == \"Z\" or \"z\"):\n",
    "    print(\"Yes\")\n",
    "else:\n",
    "    print(\"No\")"
   ]
  },
  {
   "cell_type": "markdown",
   "metadata": {},
   "source": [
    "10.Write a program that takes a number and checks whether it lies within the range [10, 50]."
   ]
  },
  {
   "cell_type": "code",
   "execution_count": null,
   "metadata": {},
   "outputs": [
    {
     "name": "stdout",
     "output_type": "stream",
     "text": [
      "Yes\n"
     ]
    }
   ],
   "source": [
    "# Simple\n",
    "N = int(input(\"Enter the number: \"))\n",
    "if N>=10 and N<=50:\n",
    "    print(\"Yes\")\n",
    "else:\n",
    "    print(\"No\")"
   ]
  },
  {
   "cell_type": "code",
   "execution_count": null,
   "metadata": {},
   "outputs": [
    {
     "name": "stdout",
     "output_type": "stream",
     "text": [
      "No\n"
     ]
    }
   ],
   "source": [
    "# Using range function\n",
    "N = int(input(\"Enter the number: \"))\n",
    "if N in range(10,51):\n",
    "    print(\"Yes\")\n",
    "else:\n",
    "    print(\"No\")"
   ]
  },
  {
   "cell_type": "markdown",
   "metadata": {},
   "source": [
    "A\n",
    "11.Write a Python program to check if a triangle is valid based on its three sides."
   ]
  },
  {
   "cell_type": "code",
   "execution_count": null,
   "metadata": {},
   "outputs": [
    {
     "name": "stdout",
     "output_type": "stream",
     "text": [
      "Triangle\n"
     ]
    }
   ],
   "source": [
    "# Triangle inequality Theorem - sum of two sides should be greater than the third side\n",
    "Len1, Len2, Len3 = map(int,input(\"Enter the three sides: \").split())\n",
    "if (Len1 + Len2 > Len3) and (Len1 + Len3 > Len2) and (Len2 + Len3 > Len1):\n",
    "    print(\"Valid Triangle\")\n",
    "else:\n",
    "    print(\"not a Valid Triangle\")"
   ]
  },
  {
   "cell_type": "code",
   "execution_count": 40,
   "metadata": {},
   "outputs": [
    {
     "name": "stdout",
     "output_type": "stream",
     "text": [
      "Right Triangle\n"
     ]
    }
   ],
   "source": [
    "#Right Triangle\n",
    "import math\n",
    "Hyp, Adj, Opp = map(int,input(\"Enter the three sides: \").split())\n",
    "if Hyp**2 == Adj**2 + Opp**2 :\n",
    "    print(\"Right Triangle\")\n",
    "else:\n",
    "    print(\"Not a Right Triangle\")"
   ]
  },
  {
   "cell_type": "markdown",
   "metadata": {},
   "source": [
    "12.Implement a Python script to validate a password with these conditions:\n",
    "At least 8 characters\n",
    "Contains both letters and numbers"
   ]
  },
  {
   "cell_type": "code",
   "execution_count": null,
   "metadata": {},
   "outputs": [],
   "source": [
    "N = input()\n",
    "if len(N) >= 8 and "
   ]
  },
  {
   "cell_type": "markdown",
   "metadata": {},
   "source": [
    "\n",
    "Write a program to calculate the roots of a quadratic equation based on the discriminant.\n",
    "Write an if statement that checks if a string contains both uppercase and lowercase characters.\n",
    "Create a program to check if a number is divisible by 3, 5, or both."
   ]
  },
  {
   "cell_type": "markdown",
   "metadata": {},
   "source": [
    "Level 4: Expert\n",
    "Write a Python function that returns whether a number is a prime number or not using conditional statements.\n",
    "Write a program to classify a triangle as scalene, isosceles, or equilateral based on its sides.\n",
    "Create a program that reads a date and checks if it's valid (considering leap years).\n",
    "Write a script to categorize an input string as a palindrome, an anagram of another string, or neither.\n",
    "Implement a program to evaluate a mathematical expression given as a string, ensuring valid inputs.\n"
   ]
  },
  {
   "cell_type": "markdown",
   "metadata": {},
   "source": [
    "Level 5: Mastery\n",
    "Write a Python program to solve the \"FizzBuzz\" problem with custom rules:\n",
    "Print \"Fizz\" for multiples of 3, \"Buzz\" for multiples of 5, and \"FizzBuzz\" for both.\n",
    "Write a script to find the second-largest number in a list without using built-in functions like sorted.\n",
    "Create a Python function that takes a list of integers and returns the missing number in a sequence.\n",
    "Develop a program that simulates a basic authentication system with user credentials stored in a dictionary.\n",
    "Write a program to simulate a bank ATM, handling multiple scenarios like balance inquiry, deposit, withdrawal, and account lock after three incorrect PIN entries.\n"
   ]
  }
 ],
 "metadata": {
  "kernelspec": {
   "display_name": "Python 3",
   "language": "python",
   "name": "python3"
  },
  "language_info": {
   "codemirror_mode": {
    "name": "ipython",
    "version": 3
   },
   "file_extension": ".py",
   "mimetype": "text/x-python",
   "name": "python",
   "nbconvert_exporter": "python",
   "pygments_lexer": "ipython3",
   "version": "3.12.4"
  }
 },
 "nbformat": 4,
 "nbformat_minor": 2
}
